{
 "cells": [
  {
   "cell_type": "code",
   "execution_count": null,
   "metadata": {},
   "outputs": [],
   "source": [
    "pip install py"
   ]
  },
  {
   "cell_type": "code",
   "execution_count": null,
   "metadata": {},
   "outputs": [],
   "source": [
    "import pandas as pd \n",
    "import numpy as np\n",
    "import matplotlib.pyplot as plt"
   ]
  },
  {
   "cell_type": "code",
   "execution_count": null,
   "metadata": {},
   "outputs": [],
   "source": [
    "dados = pd.read_csv('dados.csv', sep=';')\n",
    "dados[\"IMC\"] = dados['Peso']/((dados['Altura']/100)**2) \n",
    "dados[\"Classificação IMC\"] = [\"Abaixo do peso\", \"Peso normal\", \"Sobrepeso\", \"Obesidade grau I\", \"Obesidade grau II\", \"Obesidade grau III\"]\n"
   ]
  }
 ],
 "metadata": {
  "language_info": {
   "name": "python"
  }
 },
 "nbformat": 4,
 "nbformat_minor": 2
}
